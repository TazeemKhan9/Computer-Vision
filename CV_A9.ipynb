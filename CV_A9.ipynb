{
  "nbformat": 4,
  "nbformat_minor": 0,
  "metadata": {
    "colab": {
      "name": "CV_A9.ipynb",
      "provenance": []
    },
    "kernelspec": {
      "name": "python3",
      "display_name": "Python 3"
    },
    "language_info": {
      "name": "python"
    }
  },
  "cells": [
    {
      "cell_type": "markdown",
      "metadata": {
        "id": "7oWF8p_db8U2"
      },
      "source": [
        "Assignment 9: Perform morphological gradient, top hat and black hat morphological operations in an image"
      ]
    },
    {
      "cell_type": "code",
      "metadata": {
        "id": "QJ08dZmwcCa-"
      },
      "source": [
        "import cv2 \n",
        "import numpy as np \n",
        "from google.colab.patches import cv2_imshow\n",
        "\n",
        "# Reading the input image \n",
        "img = cv2.imread('/content/open.png', 0) \n",
        "  \n",
        "# Taking a matrix of size 5 as the kernel \n",
        "kernel = np.ones((5,5), np.uint8) "
      ],
      "execution_count": 1,
      "outputs": []
    },
    {
      "cell_type": "code",
      "metadata": {
        "id": "eKlNiYaXa3X3"
      },
      "source": [
        "gradient = cv2.morphologyEx(img, cv2.MORPH_GRADIENT, kernel)"
      ],
      "execution_count": 2,
      "outputs": []
    },
    {
      "cell_type": "code",
      "metadata": {
        "id": "xjupMnn2b4p3"
      },
      "source": [
        "# Structuring element\n",
        "kernel = cv2.getStructuringElement(cv2.MORPH_RECT,(25,25))\n",
        "# Apply the top hat transform\n",
        "tophat = cv2.morphologyEx(img, cv2.MORPH_TOPHAT, kernel)\n",
        "# Apply the black hat transform\n",
        "blackhat = cv2.morphologyEx(img, cv2.MORPH_BLACKHAT, kernel)"
      ],
      "execution_count": 3,
      "outputs": []
    },
    {
      "cell_type": "code",
      "metadata": {
        "colab": {
          "base_uri": "https://localhost:8080/",
          "height": 672
        },
        "id": "silivExFcOBa",
        "outputId": "47f2c8d9-448f-46e6-bc6c-e6a1b13d9d61"
      },
      "source": [
        "print(\"Original Image\")\n",
        "cv2_imshow( img) \n",
        "print(\"Gradient tranformed Image\")\n",
        "cv2_imshow(gradient)\n",
        "print(\"Top-hat tranformed Image\")\n",
        "cv2_imshow(tophat)\n",
        "print(\"Black-hat tranformed Image\")\n",
        "cv2_imshow(blackhat)"
      ],
      "execution_count": 5,
      "outputs": [
        {
          "output_type": "stream",
          "text": [
            "Original Image\n"
          ],
          "name": "stdout"
        },
        {
          "output_type": "display_data",
          "data": {
            "image/png": "[encoded data removed]",
            "text/plain": [
              "<PIL.Image.Image image mode=L size=106x147 at 0x7FFB6454E5D0>"
            ]
          },
          "metadata": {
            "tags": []
          }
        },
        {
          "output_type": "stream",
          "text": [
            "Gradient tranformed Image\n"
          ],
          "name": "stdout"
        },
        {
          "output_type": "display_data",
          "data": {
            "image/png": "[encoded data removed]",
            "text/plain": [
              "<PIL.Image.Image image mode=L size=106x147 at 0x7FFB6454EED0>"
            ]
          },
          "metadata": {
            "tags": []
          }
        },
        {
          "output_type": "stream",
          "text": [
            "Top-hat tranformed Image\n"
          ],
          "name": "stdout"
        },
        {
          "output_type": "display_data",
          "data": {
            "image/png": "[encoded data removed]",
            "text/plain": [
              "<PIL.Image.Image image mode=L size=106x147 at 0x7FFB644CDA50>"
            ]
          },
          "metadata": {
            "tags": []
          }
        },
        {
          "output_type": "stream",
          "text": [
            "Black-hat tranformed Image\n"
          ],
          "name": "stdout"
        },
        {
          "output_type": "display_data",
          "data": {
            "image/png": "[encoded data removed]",
            "text/plain": [
              "<PIL.Image.Image image mode=L size=106x147 at 0x7FFB73346990>"
            ]
          },
          "metadata": {
            "tags": []
          }
        }
      ]
    },
    {
      "cell_type": "code",
      "metadata": {
        "id": "aawkb0RSe_Wv"
      },
      "source": [
        ""
      ],
      "execution_count": null,
      "outputs": []
    }
  ]
}