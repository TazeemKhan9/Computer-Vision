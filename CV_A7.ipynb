{
  "nbformat": 4,
  "nbformat_minor": 0,
  "metadata": {
    "colab": {
      "name": "CV_A7.ipynb",
      "provenance": []
    },
    "kernelspec": {
      "name": "python3",
      "display_name": "Python 3"
    },
    "language_info": {
      "name": "python"
    }
  },
  "cells": [
    {
      "cell_type": "markdown",
      "metadata": {
        "id": "BVWkR5bRYm06"
      },
      "source": [
        "Assignment 7: Perform erosion and dilation morphological operations in an image"
      ]
    },
    {
      "cell_type": "code",
      "metadata": {
        "colab": {
          "base_uri": "https://localhost:8080/",
          "height": 517
        },
        "id": "RakQ7R-xZiIT",
        "outputId": "348323a5-2d13-4feb-a6f2-07118e7c0225"
      },
      "source": [
        "import cv2 \n",
        "import numpy as np \n",
        "from google.colab.patches import cv2_imshow\n",
        "\n",
        "# Reading the input image \n",
        "img = cv2.imread('/content/dilation.png', 0) \n",
        "  \n",
        "# Taking a matrix of size 5 as the kernel \n",
        "kernel = np.ones((5,5), np.uint8) \n",
        "  \n",
        "# The first parameter is the original image, \n",
        "# kernel is the matrix with which image is  \n",
        "# convolved and third parameter is the number  \n",
        "# of iterations, which will determine how much  \n",
        "# you want to erode/dilate a given image.  \n",
        "img_erosion = cv2.erode(img, kernel, iterations=1) \n",
        "img_dilation = cv2.dilate(img, kernel, iterations=1) \n",
        "print(\"Original Image\")\n",
        "cv2_imshow( img) \n",
        "print(\"Erosion tranformed Image\")\n",
        "cv2_imshow(img_erosion)\n",
        "print(\"Dilated Image\") \n",
        "cv2_imshow(img_dilation) "
      ],
      "execution_count": 1,
      "outputs": [
        {
          "output_type": "stream",
          "text": [
            "Original Image\n"
          ],
          "name": "stdout"
        },
        {
          "output_type": "display_data",
          "data": {
            "image/png": "[encoded data removed]",
            "text/plain": [
              "<PIL.Image.Image image mode=L size=112x150 at 0x7F091CC50A50>"
            ]
          },
          "metadata": {
            "tags": []
          }
        },
        {
          "output_type": "stream",
          "text": [
            "Erosion tranformed Image\n"
          ],
          "name": "stdout"
        },
        {
          "output_type": "display_data",
          "data": {
            "image/png": "[encoded data removed]",
            "text/plain": [
              "<PIL.Image.Image image mode=L size=112x150 at 0x7F090D722E10>"
            ]
          },
          "metadata": {
            "tags": []
          }
        },
        {
          "output_type": "stream",
          "text": [
            "Dilated Image\n"
          ],
          "name": "stdout"
        },
        {
          "output_type": "display_data",
          "data": {
            "image/png": "[encoded data removed]",
            "text/plain": [
              "<PIL.Image.Image image mode=L size=112x150 at 0x7F090D722AD0>"
            ]
          },
          "metadata": {
            "tags": []
          }
        }
      ]
    }
  ]
}