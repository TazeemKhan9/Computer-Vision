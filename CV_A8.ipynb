{
  "nbformat": 4,
  "nbformat_minor": 0,
  "metadata": {
    "colab": {
      "name": "CV_A8.ipynb",
      "provenance": []
    },
    "kernelspec": {
      "name": "python3",
      "display_name": "Python 3"
    },
    "language_info": {
      "name": "python"
    }
  },
  "cells": [
    {
      "cell_type": "markdown",
      "metadata": {
        "id": "7oWF8p_db8U2"
      },
      "source": [
        "Assignment 8: Perform opening and closing morphological operations in an image"
      ]
    },
    {
      "cell_type": "code",
      "metadata": {
        "id": "QJ08dZmwcCa-"
      },
      "source": [
        "import cv2 \n",
        "import numpy as np \n",
        "from google.colab.patches import cv2_imshow\n",
        "\n",
        "# Reading the input image \n",
        "img1 = cv2.imread('/content/open.png', 0) \n",
        "img2 = cv2.imread('/content/close.png', 0) \n",
        "  \n",
        "# Taking a matrix of size 5 as the kernel \n",
        "kernel = np.ones((5,5), np.uint8) "
      ],
      "execution_count": 1,
      "outputs": []
    },
    {
      "cell_type": "code",
      "metadata": {
        "id": "eKlNiYaXa3X3"
      },
      "source": [
        "opening = cv2.morphologyEx(img1, cv2.MORPH_OPEN, kernel)"
      ],
      "execution_count": 2,
      "outputs": []
    },
    {
      "cell_type": "code",
      "metadata": {
        "id": "xjupMnn2b4p3"
      },
      "source": [
        "closing = cv2.morphologyEx(img2, cv2.MORPH_CLOSE, kernel)"
      ],
      "execution_count": 3,
      "outputs": []
    },
    {
      "cell_type": "code",
      "metadata": {
        "colab": {
          "base_uri": "https://localhost:8080/",
          "height": 678
        },
        "id": "silivExFcOBa",
        "outputId": "3efc1dcd-1657-4865-b36d-78f6eeb9a41e"
      },
      "source": [
        "print(\"Original Image\")\n",
        "cv2_imshow( img1) \n",
        "print(\"Open tranformed Image\")\n",
        "cv2_imshow(opening)\n",
        "print(\"Original Image\")\n",
        "cv2_imshow( img2) \n",
        "print(\"Close tranformed Image\")\n",
        "cv2_imshow(closing)"
      ],
      "execution_count": 4,
      "outputs": [
        {
          "output_type": "stream",
          "text": [
            "Original Image\n"
          ],
          "name": "stdout"
        },
        {
          "output_type": "display_data",
          "data": {
            "image/png": "[encoded data removed]",
            "text/plain": [
              "<PIL.Image.Image image mode=L size=106x147 at 0x7FBB991F7E50>"
            ]
          },
          "metadata": {
            "tags": []
          }
        },
        {
          "output_type": "stream",
          "text": [
            "Open tranformed Image\n"
          ],
          "name": "stdout"
        },
        {
          "output_type": "display_data",
          "data": {
            "image/png": "[encoded data removed]",
            "text/plain": [
              "<PIL.Image.Image image mode=L size=106x147 at 0x7FBB991F7290>"
            ]
          },
          "metadata": {
            "tags": []
          }
        },
        {
          "output_type": "stream",
          "text": [
            "Original Image\n"
          ],
          "name": "stdout"
        },
        {
          "output_type": "display_data",
          "data": {
            "image/png": "[encoded data removed]",
            "text/plain": [
              "<PIL.Image.Image image mode=L size=113x150 at 0x7FBB99174B50>"
            ]
          },
          "metadata": {
            "tags": []
          }
        },
        {
          "output_type": "stream",
          "text": [
            "Close tranformed Image\n"
          ],
          "name": "stdout"
        },
        {
          "output_type": "display_data",
          "data": {
            "image/png": "[encoded data removed]",
            "text/plain": [
              "<PIL.Image.Image image mode=L size=113x150 at 0x7FBB99174B10>"
            ]
          },
          "metadata": {
            "tags": []
          }
        }
      ]
    }
  ]
}